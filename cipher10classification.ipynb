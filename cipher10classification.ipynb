{
  "nbformat": 4,
  "nbformat_minor": 0,
  "metadata": {
    "colab": {
      "provenance": []
    },
    "kernelspec": {
      "name": "python3",
      "display_name": "Python 3"
    },
    "language_info": {
      "name": "python"
    }
  },
  "cells": [
    {
      "cell_type": "code",
      "execution_count": null,
      "metadata": {
        "id": "Lgrc_xGAnMTS"
      },
      "outputs": [],
      "source": [
        "# Importing necessary libraries\n",
        "from tensorflow.keras.datasets import cifar10\n",
        "from tensorflow.keras.models import Sequential\n",
        "from tensorflow.keras.layers import Dense, Flatten\n",
        "from tensorflow.keras.utils import to_categorical"
      ]
    },
    {
      "cell_type": "code",
      "source": [
        "# Load CIFAR-10 dataset\n",
        "(x_train_in, y_train_in), (x_test, y_test) = cifar10.load_data()"
      ],
      "metadata": {
        "id": "6rZRkdPenfGe"
      },
      "execution_count": null,
      "outputs": []
    },
    {
      "cell_type": "code",
      "source": [
        "# Check the shape of the dataset\n",
        "print(\"Shape of initial x_train:\", x_train_in.shape)\n",
        "print(\"Shape of initial y_train:\", y_train_in.shape)\n",
        "print(\"Shape of x_test:\", x_test.shape)\n",
        "print(\"Shape of y_test:\", y_test.shape)"
      ],
      "metadata": {
        "colab": {
          "base_uri": "https://localhost:8080/"
        },
        "id": "AMcgucJDnnLz",
        "outputId": "ad8dd9c6-1715-43ac-aeff-57e509925b99"
      },
      "execution_count": null,
      "outputs": [
        {
          "output_type": "stream",
          "name": "stdout",
          "text": [
            "Shape of initial x_train: (50000, 32, 32, 3)\n",
            "Shape of initial y_train: (50000, 1)\n",
            "Shape of x_test: (10000, 32, 32, 3)\n",
            "Shape of y_test: (10000, 1)\n"
          ]
        }
      ]
    },
    {
      "cell_type": "code",
      "source": [
        "from sklearn.model_selection import train_test_split\n",
        "x_train, x_val, y_train, y_val = train_test_split(x_train_in, y_train_in, test_size=0.2, random_state=42)"
      ],
      "metadata": {
        "id": "vlwMfQ4en-Xf"
      },
      "execution_count": null,
      "outputs": []
    },
    {
      "cell_type": "code",
      "source": [
        "print(\"Shape of x_train:\", x_train.shape)\n",
        "print(\"Shape of y_train:\", y_train.shape)\n",
        "print(\"Shape of x_val:\", x_val.shape)\n",
        "print(\"Shape of y_val:\", y_val.shape)\n",
        "print(\"Shape of x_test:\", x_test.shape)\n",
        "print(\"Shape of y_test:\", y_test.shape)"
      ],
      "metadata": {
        "colab": {
          "base_uri": "https://localhost:8080/"
        },
        "id": "IRJ8CQKOodX7",
        "outputId": "980e3d5c-ee9f-4d7b-81a4-15f7d4a6eebb"
      },
      "execution_count": null,
      "outputs": [
        {
          "output_type": "stream",
          "name": "stdout",
          "text": [
            "Shape of x_train: (40000, 32, 32, 3)\n",
            "Shape of y_train: (40000, 1)\n",
            "Shape of x_val: (10000, 32, 32, 3)\n",
            "Shape of y_val: (10000, 1)\n",
            "Shape of x_test: (10000, 32, 32, 3)\n",
            "Shape of y_test: (10000, 1)\n"
          ]
        }
      ]
    },
    {
      "cell_type": "code",
      "source": [
        "# Preprocess the data\n",
        "x_train = x_train.astype('float32') / 255\n",
        "x_val = x_val.astype('float32') / 255\n",
        "x_test = x_test.astype('float32') / 255\n",
        "\n",
        "num_classes = 10\n",
        "y_train = to_categorical(y_train, num_classes)\n",
        "y_val = to_categorical(y_val, num_classes)\n",
        "y_test = to_categorical(y_test, num_classes)"
      ],
      "metadata": {
        "id": "ktVzYPXcotil"
      },
      "execution_count": null,
      "outputs": []
    },
    {
      "cell_type": "code",
      "source": [
        "print(\"Shape of x_train:\", x_train.shape)\n",
        "print(\"Shape of y_train:\", y_train.shape)\n",
        "print(\"Shape of x_val:\", x_val.shape)\n",
        "print(\"Shape of y_val:\", y_val.shape)\n",
        "print(\"Shape of x_test:\", x_test.shape)\n",
        "print(\"Shape of y_test:\", y_test.shape)"
      ],
      "metadata": {
        "colab": {
          "base_uri": "https://localhost:8080/"
        },
        "id": "bnxWfV0jVoiK",
        "outputId": "1c76fefa-aaba-4805-c0c6-e31f774eff3c"
      },
      "execution_count": null,
      "outputs": [
        {
          "output_type": "stream",
          "name": "stdout",
          "text": [
            "Shape of x_train: (40000, 32, 32, 3)\n",
            "Shape of y_train: (40000, 10)\n",
            "Shape of x_val: (10000, 32, 32, 3)\n",
            "Shape of y_val: (10000, 10)\n",
            "Shape of x_test: (10000, 32, 32, 3)\n",
            "Shape of y_test: (10000, 10)\n"
          ]
        }
      ]
    },
    {
      "cell_type": "code",
      "source": [
        "import matplotlib.pyplot as plt\n",
        "plt.imshow(x_train[0])\n",
        "\n",
        "print(y_train[0])\n",
        "# print(train_labels_h[0])"
      ],
      "metadata": {
        "colab": {
          "base_uri": "https://localhost:8080/",
          "height": 448
        },
        "id": "L2mchIvvpTGG",
        "outputId": "15fe9c03-fe51-4a47-bddd-d1f05f9cc9b3"
      },
      "execution_count": null,
      "outputs": [
        {
          "output_type": "stream",
          "name": "stdout",
          "text": [
            "[0. 0. 0. 0. 0. 0. 1. 0. 0. 0.]\n"
          ]
        },
        {
          "output_type": "display_data",
          "data": {
            "text/plain": [
              "<Figure size 640x480 with 1 Axes>"
            ],
            "image/png": "[encoded data removed]"
          },
          "metadata": {}
        }
      ]
    },
    {
      "cell_type": "code",
      "source": [
        "model = Sequential([\n",
        "    Flatten(input_shape=(32, 32, 3)),  # Adjust input shape for CIFAR-10 images\n",
        "    Dense(256, activation='relu'),\n",
        "    Dense(10, activation='softmax')\n",
        "])\n",
        "model.summary()"
      ],
      "metadata": {
        "colab": {
          "base_uri": "https://localhost:8080/"
        },
        "id": "AxeyZ9uGrieC",
        "outputId": "7d5dfb46-2779-4ee7-f04e-bd956b417075"
      },
      "execution_count": null,
      "outputs": [
        {
          "output_type": "stream",
          "name": "stdout",
          "text": [
            "Model: \"sequential_1\"\n",
            "_________________________________________________________________\n",
            " Layer (type)                Output Shape              Param #   \n",
            "=================================================================\n",
            " flatten_1 (Flatten)         (None, 3072)              0         \n",
            "                                                                 \n",
            " dense_2 (Dense)             (None, 256)               786688    \n",
            "                                                                 \n",
            " dense_3 (Dense)             (None, 10)                2570      \n",
            "                                                                 \n",
            "=================================================================\n",
            "Total params: 789258 (3.01 MB)\n",
            "Trainable params: 789258 (3.01 MB)\n",
            "Non-trainable params: 0 (0.00 Byte)\n",
            "_________________________________________________________________\n"
          ]
        }
      ]
    },
    {
      "cell_type": "markdown",
      "source": [
        "## **ADAM OPTIMIZER**"
      ],
      "metadata": {
        "id": "mBm1LN9JFbPZ"
      }
    },
    {
      "cell_type": "code",
      "source": [
        "# Compiling the model with Adam optimizer\n",
        "import tensorflow as tf           #21MID0056\n",
        "\n",
        "adam = tf.keras.optimizers.Adam(learning_rate=0.001)\n",
        "model.compile(optimizer=adam, loss='categorical_crossentropy', metrics=['accuracy'])"
      ],
      "metadata": {
        "id": "cTsDT2_ItEap"
      },
      "execution_count": null,
      "outputs": []
    },
    {
      "cell_type": "code",
      "source": [
        "model.fit(x_train, y_train, epochs=50, batch_size=200, validation_data=(x_val, y_val))"
      ],
      "metadata": {
        "id": "Hy7ZjRwrn3C7",
        "colab": {
          "base_uri": "https://localhost:8080/"
        },
        "outputId": "c64fcefd-501c-4de0-e6b9-c1dd9a6d4b02"
      },
      "execution_count": null,
      "outputs": [
        {
          "output_type": "stream",
          "name": "stdout",
          "text": [
            "Epoch 1/50\n",
            "200/200 [==============================] - 6s 24ms/step - loss: 2.0097 - accuracy: 0.2908 - val_loss: 1.8197 - val_accuracy: 0.3552\n",
            "Epoch 2/50\n",
            "200/200 [==============================] - 4s 21ms/step - loss: 1.7948 - accuracy: 0.3661 - val_loss: 1.7470 - val_accuracy: 0.3785\n",
            "Epoch 3/50\n",
            "200/200 [==============================] - 6s 28ms/step - loss: 1.7279 - accuracy: 0.3914 - val_loss: 1.7335 - val_accuracy: 0.3883\n",
            "Epoch 4/50\n",
            "200/200 [==============================] - 5s 25ms/step - loss: 1.6815 - accuracy: 0.4064 - val_loss: 1.6939 - val_accuracy: 0.4022\n",
            "Epoch 5/50\n",
            "200/200 [==============================] - 5s 24ms/step - loss: 1.6353 - accuracy: 0.4277 - val_loss: 1.6225 - val_accuracy: 0.4284\n",
            "Epoch 6/50\n",
            "200/200 [==============================] - 5s 24ms/step - loss: 1.6011 - accuracy: 0.4378 - val_loss: 1.6138 - val_accuracy: 0.4263\n",
            "Epoch 7/50\n",
            "200/200 [==============================] - 4s 21ms/step - loss: 1.5678 - accuracy: 0.4475 - val_loss: 1.6177 - val_accuracy: 0.4293\n",
            "Epoch 8/50\n",
            "200/200 [==============================] - 5s 26ms/step - loss: 1.5550 - accuracy: 0.4551 - val_loss: 1.5894 - val_accuracy: 0.4401\n",
            "Epoch 9/50\n",
            "200/200 [==============================] - 5s 23ms/step - loss: 1.5209 - accuracy: 0.4638 - val_loss: 1.5460 - val_accuracy: 0.4542\n",
            "Epoch 10/50\n",
            "200/200 [==============================] - 4s 21ms/step - loss: 1.5074 - accuracy: 0.4705 - val_loss: 1.5481 - val_accuracy: 0.4502\n",
            "Epoch 11/50\n",
            "200/200 [==============================] - 5s 26ms/step - loss: 1.4965 - accuracy: 0.4739 - val_loss: 1.5301 - val_accuracy: 0.4572\n",
            "Epoch 12/50\n",
            "200/200 [==============================] - 5s 23ms/step - loss: 1.4832 - accuracy: 0.4798 - val_loss: 1.5683 - val_accuracy: 0.4449\n",
            "Epoch 13/50\n",
            "200/200 [==============================] - 5s 26ms/step - loss: 1.4701 - accuracy: 0.4840 - val_loss: 1.5406 - val_accuracy: 0.4594\n",
            "Epoch 14/50\n",
            "200/200 [==============================] - 5s 24ms/step - loss: 1.4576 - accuracy: 0.4890 - val_loss: 1.5428 - val_accuracy: 0.4553\n",
            "Epoch 15/50\n",
            "200/200 [==============================] - 4s 21ms/step - loss: 1.4479 - accuracy: 0.4891 - val_loss: 1.5487 - val_accuracy: 0.4520\n",
            "Epoch 16/50\n",
            "200/200 [==============================] - 5s 26ms/step - loss: 1.4390 - accuracy: 0.4922 - val_loss: 1.4996 - val_accuracy: 0.4701\n",
            "Epoch 17/50\n",
            "200/200 [==============================] - 5s 23ms/step - loss: 1.4350 - accuracy: 0.4952 - val_loss: 1.5120 - val_accuracy: 0.4681\n",
            "Epoch 18/50\n",
            "200/200 [==============================] - 5s 23ms/step - loss: 1.4191 - accuracy: 0.5018 - val_loss: 1.5075 - val_accuracy: 0.4655\n",
            "Epoch 19/50\n",
            "200/200 [==============================] - 5s 26ms/step - loss: 1.4206 - accuracy: 0.4998 - val_loss: 1.4913 - val_accuracy: 0.4697\n",
            "Epoch 20/50\n",
            "200/200 [==============================] - 4s 21ms/step - loss: 1.4059 - accuracy: 0.5037 - val_loss: 1.5293 - val_accuracy: 0.4534\n",
            "Epoch 21/50\n",
            "200/200 [==============================] - 6s 28ms/step - loss: 1.4021 - accuracy: 0.5056 - val_loss: 1.5008 - val_accuracy: 0.4742\n",
            "Epoch 22/50\n",
            "200/200 [==============================] - 4s 22ms/step - loss: 1.3909 - accuracy: 0.5097 - val_loss: 1.4810 - val_accuracy: 0.4792\n",
            "Epoch 23/50\n",
            "200/200 [==============================] - 5s 23ms/step - loss: 1.3746 - accuracy: 0.5150 - val_loss: 1.5570 - val_accuracy: 0.4543\n",
            "Epoch 24/50\n",
            "200/200 [==============================] - 5s 26ms/step - loss: 1.3753 - accuracy: 0.5153 - val_loss: 1.4881 - val_accuracy: 0.4738\n",
            "Epoch 25/50\n",
            "200/200 [==============================] - 4s 21ms/step - loss: 1.3656 - accuracy: 0.5215 - val_loss: 1.5218 - val_accuracy: 0.4678\n",
            "Epoch 26/50\n",
            "200/200 [==============================] - 4s 22ms/step - loss: 1.3635 - accuracy: 0.5190 - val_loss: 1.4873 - val_accuracy: 0.4743\n",
            "Epoch 27/50\n",
            "200/200 [==============================] - 5s 26ms/step - loss: 1.3599 - accuracy: 0.5214 - val_loss: 1.5095 - val_accuracy: 0.4722\n",
            "Epoch 28/50\n",
            "200/200 [==============================] - 4s 22ms/step - loss: 1.3488 - accuracy: 0.5252 - val_loss: 1.4760 - val_accuracy: 0.4799\n",
            "Epoch 29/50\n",
            "200/200 [==============================] - 5s 24ms/step - loss: 1.3493 - accuracy: 0.5253 - val_loss: 1.4893 - val_accuracy: 0.4767\n",
            "Epoch 30/50\n",
            "200/200 [==============================] - 5s 24ms/step - loss: 1.3470 - accuracy: 0.5241 - val_loss: 1.4828 - val_accuracy: 0.4827\n",
            "Epoch 31/50\n",
            "200/200 [==============================] - 4s 21ms/step - loss: 1.3424 - accuracy: 0.5268 - val_loss: 1.4798 - val_accuracy: 0.4849\n",
            "Epoch 32/50\n",
            "200/200 [==============================] - 5s 26ms/step - loss: 1.3340 - accuracy: 0.5314 - val_loss: 1.5290 - val_accuracy: 0.4609\n",
            "Epoch 33/50\n",
            "200/200 [==============================] - 4s 21ms/step - loss: 1.3285 - accuracy: 0.5319 - val_loss: 1.5055 - val_accuracy: 0.4751\n",
            "Epoch 34/50\n",
            "200/200 [==============================] - 4s 21ms/step - loss: 1.3228 - accuracy: 0.5335 - val_loss: 1.4917 - val_accuracy: 0.4766\n",
            "Epoch 35/50\n",
            "200/200 [==============================] - 5s 26ms/step - loss: 1.3222 - accuracy: 0.5329 - val_loss: 1.4949 - val_accuracy: 0.4727\n",
            "Epoch 36/50\n",
            "200/200 [==============================] - 4s 21ms/step - loss: 1.3151 - accuracy: 0.5359 - val_loss: 1.4649 - val_accuracy: 0.4847\n",
            "Epoch 37/50\n",
            "200/200 [==============================] - 4s 22ms/step - loss: 1.3053 - accuracy: 0.5395 - val_loss: 1.5037 - val_accuracy: 0.4748\n",
            "Epoch 38/50\n",
            "200/200 [==============================] - 5s 25ms/step - loss: 1.3109 - accuracy: 0.5376 - val_loss: 1.4982 - val_accuracy: 0.4729\n",
            "Epoch 39/50\n",
            "200/200 [==============================] - 4s 22ms/step - loss: 1.3048 - accuracy: 0.5391 - val_loss: 1.5163 - val_accuracy: 0.4705\n",
            "Epoch 40/50\n",
            "200/200 [==============================] - 5s 26ms/step - loss: 1.2979 - accuracy: 0.5420 - val_loss: 1.4873 - val_accuracy: 0.4751\n",
            "Epoch 41/50\n",
            "200/200 [==============================] - 4s 22ms/step - loss: 1.2932 - accuracy: 0.5403 - val_loss: 1.4818 - val_accuracy: 0.4861\n",
            "Epoch 42/50\n",
            "200/200 [==============================] - 4s 21ms/step - loss: 1.2978 - accuracy: 0.5424 - val_loss: 1.4741 - val_accuracy: 0.4855\n",
            "Epoch 43/50\n",
            "200/200 [==============================] - 5s 26ms/step - loss: 1.2864 - accuracy: 0.5460 - val_loss: 1.4643 - val_accuracy: 0.4893\n",
            "Epoch 44/50\n",
            "200/200 [==============================] - 5s 23ms/step - loss: 1.2783 - accuracy: 0.5478 - val_loss: 1.5120 - val_accuracy: 0.4654\n",
            "Epoch 45/50\n",
            "200/200 [==============================] - 4s 22ms/step - loss: 1.2756 - accuracy: 0.5479 - val_loss: 1.5597 - val_accuracy: 0.4672\n",
            "Epoch 46/50\n",
            "200/200 [==============================] - 5s 26ms/step - loss: 1.2837 - accuracy: 0.5445 - val_loss: 1.4669 - val_accuracy: 0.4916\n",
            "Epoch 47/50\n",
            "200/200 [==============================] - 4s 22ms/step - loss: 1.2695 - accuracy: 0.5539 - val_loss: 1.5078 - val_accuracy: 0.4728\n",
            "Epoch 48/50\n",
            "200/200 [==============================] - 5s 25ms/step - loss: 1.2652 - accuracy: 0.5539 - val_loss: 1.4883 - val_accuracy: 0.4838\n",
            "Epoch 49/50\n",
            "200/200 [==============================] - 5s 23ms/step - loss: 1.2599 - accuracy: 0.5556 - val_loss: 1.4655 - val_accuracy: 0.4881\n",
            "Epoch 50/50\n",
            "200/200 [==============================] - 5s 23ms/step - loss: 1.2578 - accuracy: 0.5543 - val_loss: 1.4970 - val_accuracy: 0.4767\n"
          ]
        },
        {
          "output_type": "execute_result",
          "data": {
            "text/plain": [
              "<keras.src.callbacks.History at 0x7de85237f130>"
            ]
          },
          "metadata": {},
          "execution_count": 18
        }
      ]
    },
    {
      "cell_type": "code",
      "source": [
        "# Evaluate model on test set\n",
        "loss, accuracy = model.evaluate(x_test, y_test)\n",
        "print(\"Test Loss (Adam):\", loss)\n",
        "print(\"Test Accuracy (Adam):\", accuracy)"
      ],
      "metadata": {
        "colab": {
          "base_uri": "https://localhost:8080/",
          "height": 200
        },
        "id": "-QzABeyTx3sp",
        "outputId": "74301b49-50ed-479f-ca20-b305748fa19a"
      },
      "execution_count": null,
      "outputs": [
        {
          "output_type": "error",
          "ename": "NameError",
          "evalue": "name 'model' is not defined",
          "traceback": [
            "\u001b[0;31m---------------------------------------------------------------------------\u001b[0m",
            "\u001b[0;31mNameError\u001b[0m                                 Traceback (most recent call last)",
            "\u001b[0;32m<ipython-input-17-aab0d39d776d>\u001b[0m in \u001b[0;36m<cell line: 2>\u001b[0;34m()\u001b[0m\n\u001b[1;32m      1\u001b[0m \u001b[0;31m# Evaluate model on test set\u001b[0m\u001b[0;34m\u001b[0m\u001b[0;34m\u001b[0m\u001b[0m\n\u001b[0;32m----> 2\u001b[0;31m \u001b[0mloss\u001b[0m\u001b[0;34m,\u001b[0m \u001b[0maccuracy\u001b[0m \u001b[0;34m=\u001b[0m \u001b[0mmodel\u001b[0m\u001b[0;34m.\u001b[0m\u001b[0mevaluate\u001b[0m\u001b[0;34m(\u001b[0m\u001b[0mx_test\u001b[0m\u001b[0;34m,\u001b[0m \u001b[0my_test\u001b[0m\u001b[0;34m)\u001b[0m\u001b[0;34m\u001b[0m\u001b[0;34m\u001b[0m\u001b[0m\n\u001b[0m\u001b[1;32m      3\u001b[0m \u001b[0mprint\u001b[0m\u001b[0;34m(\u001b[0m\u001b[0;34m\"Test Loss (Adam):\"\u001b[0m\u001b[0;34m,\u001b[0m \u001b[0mloss\u001b[0m\u001b[0;34m)\u001b[0m\u001b[0;34m\u001b[0m\u001b[0;34m\u001b[0m\u001b[0m\n\u001b[1;32m      4\u001b[0m \u001b[0mprint\u001b[0m\u001b[0;34m(\u001b[0m\u001b[0;34m\"Test Accuracy (Adam):\"\u001b[0m\u001b[0;34m,\u001b[0m \u001b[0maccuracy\u001b[0m\u001b[0;34m)\u001b[0m\u001b[0;34m\u001b[0m\u001b[0;34m\u001b[0m\u001b[0m\n",
            "\u001b[0;31mNameError\u001b[0m: name 'model' is not defined"
          ]
        }
      ]
    },
    {
      "cell_type": "code",
      "source": [
        "y_predicted = model.predict(x_test)"
      ],
      "metadata": {
        "id": "wEhHSwZazO09"
      },
      "execution_count": null,
      "outputs": []
    },
    {
      "cell_type": "code",
      "source": [
        "print(y_test[1])\n",
        "print(y_predicted[1])"
      ],
      "metadata": {
        "id": "wSPnwf7iz12a"
      },
      "execution_count": null,
      "outputs": []
    },
    {
      "cell_type": "code",
      "source": [
        "# Generate confusion matrix\n",
        "import numpy as np\n",
        "from sklearn.metrics import confusion_matrix\n",
        "y_pred = np.argmax(model.predict(x_test), axis=1)\n",
        "cm = confusion_matrix(np.argmax(y_test, axis=1), y_pred)\n",
        "print(\"Confusion Matrix (Adam):\\n\", cm);"
      ],
      "metadata": {
        "id": "7qTPzSHVyU9c"
      },
      "execution_count": null,
      "outputs": []
    },
    {
      "cell_type": "code",
      "source": [
        "#Classification Report\n",
        "from sklearn.metrics import classification_report\n",
        "label_names = ['Class 0', 'Class 1', 'Class 2', 'Class 3', 'Class 4', 'Class 5', 'Class 6', 'Class 7', 'Class 8', 'Class 9']\n",
        "print(\"Classification Report (Adam):\\n\", classification_report(np.argmax(y_test, axis=1), y_pred.round(), target_names=label_names))"
      ],
      "metadata": {
        "id": "jzT_kVVSy-lo"
      },
      "execution_count": null,
      "outputs": []
    },
    {
      "cell_type": "code",
      "source": [
        "from sklearn.metrics import precision_score, recall_score, accuracy_score, f1_score\n",
        "print('Precision: ', precision_score(np.argmax(y_test, axis=1), y_pred, average='macro'))\n",
        "print('Recall: ', recall_score(np.argmax(y_test, axis=1), y_pred, average='macro'))\n",
        "print('Accuracy: ', accuracy_score(np.argmax(y_test, axis=1), y_pred))\n",
        "print('F1 Score: ', f1_score(np.argmax(y_test, axis=1), y_pred, average='macro'))"
      ],
      "metadata": {
        "id": "Qs6yw9yf0tWa"
      },
      "execution_count": null,
      "outputs": []
    },
    {
      "cell_type": "markdown",
      "source": [
        "## **SGD OPTIMISER**"
      ],
      "metadata": {
        "id": "7rCQlPslFTOC"
      }
    },
    {
      "cell_type": "code",
      "source": [
        "model = Sequential([\n",
        "    Flatten(input_shape=(32, 32, 3)),  # Adjust input shape for CIFAR-10 images\n",
        "    Dense(256, activation='relu'),\n",
        "    Dense(10, activation='softmax')\n",
        "])\n",
        "model.summary()"
      ],
      "metadata": {
        "id": "ImpyWkXOOxT5"
      },
      "execution_count": null,
      "outputs": []
    },
    {
      "cell_type": "code",
      "source": [
        "# Compiling the model with SGD optimizer\n",
        "import tensorflow as tf\n",
        "\n",
        "sgd = tf.keras.optimizers.SGD(learning_rate=0.001)\n",
        "model.compile(optimizer=sgd, loss='categorical_crossentropy', metrics=['accuracy'])"
      ],
      "metadata": {
        "id": "WJSO_fZe10ru"
      },
      "execution_count": null,
      "outputs": []
    },
    {
      "cell_type": "code",
      "source": [
        "model.fit(x_train, y_train, epochs=10, batch_size=64, validation_data=(x_val, y_val))"
      ],
      "metadata": {
        "colab": {
          "base_uri": "https://localhost:8080/"
        },
        "id": "G9h8WRiX3aih",
        "outputId": "eb973b56-5221-4e95-ec6e-f710989c2f05"
      },
      "execution_count": null,
      "outputs": [
        {
          "output_type": "stream",
          "name": "stdout",
          "text": [
            "Epoch 1/10\n",
            "547/547 [==============================] - 6s 10ms/step - loss: 1.5887 - accuracy: 0.4400 - val_loss: 1.6267 - val_accuracy: 0.4221\n",
            "Epoch 2/10\n",
            "547/547 [==============================] - 5s 8ms/step - loss: 1.5847 - accuracy: 0.4414 - val_loss: 1.6249 - val_accuracy: 0.4229\n",
            "Epoch 3/10\n",
            "547/547 [==============================] - 7s 12ms/step - loss: 1.5833 - accuracy: 0.4424 - val_loss: 1.6257 - val_accuracy: 0.4225\n",
            "Epoch 4/10\n",
            "547/547 [==============================] - 5s 8ms/step - loss: 1.5821 - accuracy: 0.4421 - val_loss: 1.6237 - val_accuracy: 0.4231\n",
            "Epoch 5/10\n",
            "547/547 [==============================] - 4s 7ms/step - loss: 1.5814 - accuracy: 0.4426 - val_loss: 1.6236 - val_accuracy: 0.4238\n",
            "Epoch 6/10\n",
            "547/547 [==============================] - 4s 8ms/step - loss: 1.5806 - accuracy: 0.4431 - val_loss: 1.6230 - val_accuracy: 0.4216\n",
            "Epoch 7/10\n",
            "547/547 [==============================] - 4s 8ms/step - loss: 1.5798 - accuracy: 0.4427 - val_loss: 1.6231 - val_accuracy: 0.4232\n",
            "Epoch 8/10\n",
            "547/547 [==============================] - 4s 6ms/step - loss: 1.5796 - accuracy: 0.4430 - val_loss: 1.6228 - val_accuracy: 0.4233\n",
            "Epoch 9/10\n",
            "547/547 [==============================] - 4s 8ms/step - loss: 1.5790 - accuracy: 0.4447 - val_loss: 1.6226 - val_accuracy: 0.4227\n",
            "Epoch 10/10\n",
            "547/547 [==============================] - 5s 9ms/step - loss: 1.5785 - accuracy: 0.4436 - val_loss: 1.6221 - val_accuracy: 0.4225\n"
          ]
        },
        {
          "output_type": "execute_result",
          "data": {
            "text/plain": [
              "<keras.src.callbacks.History at 0x798a5d7da470>"
            ]
          },
          "metadata": {},
          "execution_count": 34
        }
      ]
    },
    {
      "cell_type": "code",
      "source": [
        "# Evaluate model on test set\n",
        "loss, accuracy = model.evaluate(x_test, y_test)\n",
        "print(\"Test Loss (SGD):\", loss)\n",
        "print(\"Test Accuracy (SGD):\", accuracy)"
      ],
      "metadata": {
        "colab": {
          "base_uri": "https://localhost:8080/"
        },
        "id": "OkCPl1UF3czX",
        "outputId": "1cb7a4d9-84f6-49c5-aa4e-bfd584619e0f"
      },
      "execution_count": null,
      "outputs": [
        {
          "output_type": "stream",
          "name": "stdout",
          "text": [
            "313/313 [==============================] - 1s 2ms/step - loss: 1.6198 - accuracy: 0.4253\n",
            "Test Loss (SGD): 1.6198424100875854\n",
            "Test Accuracy (SGD): 0.4253000020980835\n"
          ]
        }
      ]
    },
    {
      "cell_type": "code",
      "source": [
        "y_predicted = model.predict(x_test)"
      ],
      "metadata": {
        "colab": {
          "base_uri": "https://localhost:8080/"
        },
        "id": "Rj2O3d1F3h_x",
        "outputId": "a47c27cb-3b71-404b-90e1-362ad18d78d3"
      },
      "execution_count": null,
      "outputs": [
        {
          "output_type": "stream",
          "name": "stdout",
          "text": [
            "313/313 [==============================] - 1s 2ms/step\n"
          ]
        }
      ]
    },
    {
      "cell_type": "code",
      "source": [
        "print(y_test[1])\n",
        "print(y_predicted[1])"
      ],
      "metadata": {
        "colab": {
          "base_uri": "https://localhost:8080/"
        },
        "id": "FM4emF3o3kn9",
        "outputId": "187e1cc2-5771-4239-8acc-a399d414f9b2"
      },
      "execution_count": null,
      "outputs": [
        {
          "output_type": "stream",
          "name": "stdout",
          "text": [
            "[0. 0. 0. 0. 0. 0. 0. 0. 1. 0.]\n",
            "[0.03719467 0.2296665  0.00250341 0.00272623 0.00117164 0.00196609\n",
            " 0.00053403 0.00070929 0.307937   0.4155911 ]\n"
          ]
        }
      ]
    },
    {
      "cell_type": "code",
      "source": [
        "# Generate confusion matrix\n",
        "import numpy as np\n",
        "from sklearn.metrics import confusion_matrix\n",
        "y_pred = np.argmax(model.predict(x_test), axis=1)\n",
        "cm = confusion_matrix(np.argmax(y_test, axis=1), y_pred)\n",
        "print(\"Confusion Matrix (SGD):\\n\", cm);\n"
      ],
      "metadata": {
        "colab": {
          "base_uri": "https://localhost:8080/"
        },
        "id": "77siVBpm3nnx",
        "outputId": "d49257a0-ab83-48fc-a545-75ed6358f633"
      },
      "execution_count": null,
      "outputs": [
        {
          "output_type": "stream",
          "name": "stdout",
          "text": [
            "313/313 [==============================] - 1s 3ms/step\n",
            "Confusion Matrix (Adam):\n",
            " [[427  51  91  31  23  18  27  41 222  69]\n",
            " [ 55 544   9  25  13  25  30  39 102 158]\n",
            " [ 94  41 268  55 152  77 165  86  43  19]\n",
            " [ 35  38 109 215  47 214 170  60  41  71]\n",
            " [ 58  23 169  43 325  54 171 108  29  20]\n",
            " [ 26  31 108 118  75 341 138  93  47  23]\n",
            " [  7  21  81  91 106  64 552  37  22  19]\n",
            " [ 38  36  88  51  71  62  58 483  28  85]\n",
            " [120  64  32  25   6  34  14  18 603  84]\n",
            " [ 66 180  12  21  12  17  45  58  94 495]]\n"
          ]
        }
      ]
    },
    {
      "cell_type": "code",
      "source": [
        "#Classification Report\n",
        "from sklearn.metrics import classification_report\n",
        "label_names = ['Class 0', 'Class 1', 'Class 2', 'Class 3', 'Class 4', 'Class 5', 'Class 6', 'Class 7', 'Class 8', 'Class 9']\n",
        "print(\"Classification Report (SGD):\\n\", classification_report(np.argmax(y_test, axis=1), y_pred.round(), target_names=label_names))"
      ],
      "metadata": {
        "colab": {
          "base_uri": "https://localhost:8080/"
        },
        "id": "AWJW00ag3rbA",
        "outputId": "36b01d86-76d2-445e-e7a9-8700aab6a26e"
      },
      "execution_count": null,
      "outputs": [
        {
          "output_type": "stream",
          "name": "stdout",
          "text": [
            "Classification Report (Adam):\n",
            "               precision    recall  f1-score   support\n",
            "\n",
            "     Class 0       0.46      0.43      0.44      1000\n",
            "     Class 1       0.53      0.54      0.54      1000\n",
            "     Class 2       0.28      0.27      0.27      1000\n",
            "     Class 3       0.32      0.21      0.26      1000\n",
            "     Class 4       0.39      0.33      0.36      1000\n",
            "     Class 5       0.38      0.34      0.36      1000\n",
            "     Class 6       0.40      0.55      0.47      1000\n",
            "     Class 7       0.47      0.48      0.48      1000\n",
            "     Class 8       0.49      0.60      0.54      1000\n",
            "     Class 9       0.47      0.49      0.48      1000\n",
            "\n",
            "    accuracy                           0.43     10000\n",
            "   macro avg       0.42      0.43      0.42     10000\n",
            "weighted avg       0.42      0.43      0.42     10000\n",
            "\n"
          ]
        }
      ]
    },
    {
      "cell_type": "code",
      "source": [
        "from sklearn.metrics import precision_score, recall_score, accuracy_score, f1_score\n",
        "print('Precision: ', precision_score(np.argmax(y_test, axis=1), y_pred, average='macro'))\n",
        "print('Recall: ', recall_score(np.argmax(y_test, axis=1), y_pred, average='macro'))\n",
        "print('Accuracy: ', accuracy_score(np.argmax(y_test, axis=1), y_pred))\n",
        "print('F1 Score: ', f1_score(np.argmax(y_test, axis=1), y_pred, average='macro'))"
      ],
      "metadata": {
        "colab": {
          "base_uri": "https://localhost:8080/"
        },
        "id": "XBIxt36R3uVH",
        "outputId": "592b3fc9-e557-4a59-d357-a88cea8416d2"
      },
      "execution_count": null,
      "outputs": [
        {
          "output_type": "stream",
          "name": "stdout",
          "text": [
            "Precision:  0.41929006527742896\n",
            "Recall:  0.4253\n",
            "Accuracy:  0.4253\n",
            "F1 Score:  0.4190329746891292\n"
          ]
        }
      ]
    },
    {
      "cell_type": "markdown",
      "source": [
        "# **Adadelta optimizer**"
      ],
      "metadata": {
        "id": "MM3xhLl5Fitg"
      }
    },
    {
      "cell_type": "code",
      "source": [
        "model = Sequential([\n",
        "    Flatten(input_shape=(32, 32, 3)),  # Adjust input shape for CIFAR-10 images\n",
        "    Dense(256, activation='relu'),\n",
        "    Dense(10, activation='softmax')\n",
        "])\n",
        "model.summary()"
      ],
      "metadata": {
        "id": "BhNeuAXaO4E_"
      },
      "execution_count": null,
      "outputs": []
    },
    {
      "cell_type": "code",
      "source": [
        "# Compiling the model with Adadelta optimizer\n",
        "import tensorflow as tf\n",
        "\n",
        "Adadelta = tf.keras.optimizers.Adadelta(learning_rate=0.001)\n",
        "model.compile(optimizer=Adadelta, loss='categorical_crossentropy', metrics=['accuracy'])"
      ],
      "metadata": {
        "id": "jZjhEVFB3xO8"
      },
      "execution_count": null,
      "outputs": []
    },
    {
      "cell_type": "code",
      "source": [
        "model.fit(x_train, y_train, epochs=10, batch_size=64, validation_data=(x_val, y_val))"
      ],
      "metadata": {
        "colab": {
          "base_uri": "https://localhost:8080/"
        },
        "id": "UA6y3CEg4HT9",
        "outputId": "99b9d1f3-bf73-43fc-f7df-8355f254f2ff"
      },
      "execution_count": null,
      "outputs": [
        {
          "output_type": "stream",
          "name": "stdout",
          "text": [
            "Epoch 1/10\n",
            "547/547 [==============================] - 12s 20ms/step - loss: 1.5772 - accuracy: 0.4437 - val_loss: 1.6220 - val_accuracy: 0.4224\n",
            "Epoch 2/10\n",
            "547/547 [==============================] - 8s 14ms/step - loss: 1.5771 - accuracy: 0.4442 - val_loss: 1.6220 - val_accuracy: 0.4225\n",
            "Epoch 3/10\n",
            "547/547 [==============================] - 8s 14ms/step - loss: 1.5770 - accuracy: 0.4440 - val_loss: 1.6219 - val_accuracy: 0.4227\n",
            "Epoch 4/10\n",
            "547/547 [==============================] - 8s 15ms/step - loss: 1.5769 - accuracy: 0.4441 - val_loss: 1.6220 - val_accuracy: 0.4230\n",
            "Epoch 5/10\n",
            "547/547 [==============================] - 11s 19ms/step - loss: 1.5769 - accuracy: 0.4443 - val_loss: 1.6219 - val_accuracy: 0.4233\n",
            "Epoch 6/10\n",
            "547/547 [==============================] - 8s 15ms/step - loss: 1.5768 - accuracy: 0.4439 - val_loss: 1.6220 - val_accuracy: 0.4232\n",
            "Epoch 7/10\n",
            "547/547 [==============================] - 7s 12ms/step - loss: 1.5768 - accuracy: 0.4443 - val_loss: 1.6218 - val_accuracy: 0.4234\n",
            "Epoch 8/10\n",
            "547/547 [==============================] - 5s 8ms/step - loss: 1.5767 - accuracy: 0.4440 - val_loss: 1.6218 - val_accuracy: 0.4232\n",
            "Epoch 9/10\n",
            "547/547 [==============================] - 6s 11ms/step - loss: 1.5767 - accuracy: 0.4443 - val_loss: 1.6218 - val_accuracy: 0.4227\n",
            "Epoch 10/10\n",
            "547/547 [==============================] - 5s 8ms/step - loss: 1.5766 - accuracy: 0.4444 - val_loss: 1.6218 - val_accuracy: 0.4229\n"
          ]
        },
        {
          "output_type": "execute_result",
          "data": {
            "text/plain": [
              "<keras.src.callbacks.History at 0x798a5d5adab0>"
            ]
          },
          "metadata": {},
          "execution_count": 42
        }
      ]
    },
    {
      "cell_type": "code",
      "source": [
        "# Evaluate model on test set\n",
        "loss, accuracy = model.evaluate(x_test, y_test)\n",
        "print(\"Test Loss (Adadelta):\", loss)\n",
        "print(\"Test Accuracy (Adadelta):\", accuracy)"
      ],
      "metadata": {
        "colab": {
          "base_uri": "https://localhost:8080/"
        },
        "id": "ojKwAVVo4KOj",
        "outputId": "fdf30f4c-11d2-4f8a-f038-9aff03ddc3ba"
      },
      "execution_count": null,
      "outputs": [
        {
          "output_type": "stream",
          "name": "stdout",
          "text": [
            "313/313 [==============================] - 1s 2ms/step - loss: 1.6190 - accuracy: 0.4260\n",
            "Test Loss (Adadelta): 1.618964433670044\n",
            "Test Accuracy (Adadelta): 0.4259999990463257\n"
          ]
        }
      ]
    },
    {
      "cell_type": "code",
      "source": [
        "y_predicted = model.predict(x_test)"
      ],
      "metadata": {
        "colab": {
          "base_uri": "https://localhost:8080/"
        },
        "id": "2Z9gdIel4Nuq",
        "outputId": "99a374e9-4f79-4387-a6c9-638dee0906ae"
      },
      "execution_count": null,
      "outputs": [
        {
          "output_type": "stream",
          "name": "stdout",
          "text": [
            "313/313 [==============================] - 1s 3ms/step\n"
          ]
        }
      ]
    },
    {
      "cell_type": "code",
      "source": [
        "print(y_test[1])\n",
        "print(y_predicted[1])"
      ],
      "metadata": {
        "colab": {
          "base_uri": "https://localhost:8080/"
        },
        "id": "dGnV5ASS4Qr7",
        "outputId": "068f2ffe-5ae9-4477-87d6-cfa7de761098"
      },
      "execution_count": null,
      "outputs": [
        {
          "output_type": "stream",
          "name": "stdout",
          "text": [
            "[0. 0. 0. 0. 0. 0. 0. 0. 1. 0.]\n",
            "[0.04069962 0.23476875 0.00257602 0.00273021 0.00125639 0.00188776\n",
            " 0.00051413 0.00071388 0.29789585 0.41695726]\n"
          ]
        }
      ]
    },
    {
      "cell_type": "code",
      "source": [
        "# Generate confusion matrix\n",
        "import numpy as np\n",
        "from sklearn.metrics import confusion_matrix\n",
        "y_pred = np.argmax(model.predict(x_test), axis=1)\n",
        "cm = confusion_matrix(np.argmax(y_test, axis=1), y_pred)\n",
        "print(\"Confusion Matrix (Adadelta):\\n\", cm);"
      ],
      "metadata": {
        "colab": {
          "base_uri": "https://localhost:8080/"
        },
        "id": "RxvhiqIw4SZK",
        "outputId": "5618cfef-71e3-4431-ec6f-5755370cc077"
      },
      "execution_count": null,
      "outputs": [
        {
          "output_type": "stream",
          "name": "stdout",
          "text": [
            "313/313 [==============================] - 1s 3ms/step\n",
            "Confusion Matrix (Adadelta):\n",
            " [[442  54  83  31  26  16  26  43 209  70]\n",
            " [ 63 552   9  24  13  25  28  39  94 153]\n",
            " [ 99  41 256  58 167  72 161  86  40  20]\n",
            " [ 41  40  98 221  58 209 164  59  39  71]\n",
            " [ 61  23 162  45 343  53 161 106  26  20]\n",
            " [ 27  33 106 127  79 333 135  91  46  23]\n",
            " [  7  22  77  94 114  63 545  38  22  18]\n",
            " [ 41  38  86  50  76  62  56 484  27  80]\n",
            " [132  65  30  25   7  34  13  18 589  87]\n",
            " [ 67 180  12  21  13  17  44  59  92 495]]\n"
          ]
        }
      ]
    },
    {
      "cell_type": "code",
      "source": [
        "#Classification Report\n",
        "from sklearn.metrics import classification_report\n",
        "label_names = ['Class 0', 'Class 1', 'Class 2', 'Class 3', 'Class 4', 'Class 5', 'Class 6', 'Class 7', 'Class 8', 'Class 9']\n",
        "print(\"Classification Report (Adadelta):\\n\", classification_report(np.argmax(y_test, axis=1), y_pred.round(), target_names=label_names))"
      ],
      "metadata": {
        "colab": {
          "base_uri": "https://localhost:8080/"
        },
        "id": "eN6P6D7O4UE6",
        "outputId": "4038a9d4-5ad9-4783-f42c-9847b7672cec"
      },
      "execution_count": null,
      "outputs": [
        {
          "output_type": "stream",
          "name": "stdout",
          "text": [
            "Classification Report (Adadelta):\n",
            "               precision    recall  f1-score   support\n",
            "\n",
            "     Class 0       0.45      0.44      0.45      1000\n",
            "     Class 1       0.53      0.55      0.54      1000\n",
            "     Class 2       0.28      0.26      0.27      1000\n",
            "     Class 3       0.32      0.22      0.26      1000\n",
            "     Class 4       0.38      0.34      0.36      1000\n",
            "     Class 5       0.38      0.33      0.35      1000\n",
            "     Class 6       0.41      0.55      0.47      1000\n",
            "     Class 7       0.47      0.48      0.48      1000\n",
            "     Class 8       0.50      0.59      0.54      1000\n",
            "     Class 9       0.48      0.49      0.49      1000\n",
            "\n",
            "    accuracy                           0.43     10000\n",
            "   macro avg       0.42      0.43      0.42     10000\n",
            "weighted avg       0.42      0.43      0.42     10000\n",
            "\n"
          ]
        }
      ]
    },
    {
      "cell_type": "code",
      "source": [
        "from sklearn.metrics import precision_score, recall_score, accuracy_score, f1_score\n",
        "print('Precision: ', precision_score(np.argmax(y_test, axis=1), y_pred, average='macro'))\n",
        "print('Recall: ', recall_score(np.argmax(y_test, axis=1), y_pred, average='macro'))\n",
        "print('Accuracy: ', accuracy_score(np.argmax(y_test, axis=1), y_pred))\n",
        "print('F1 Score: ', f1_score(np.argmax(y_test, axis=1), y_pred, average='macro'))"
      ],
      "metadata": {
        "colab": {
          "base_uri": "https://localhost:8080/"
        },
        "id": "V3I3Wz0n4WBo",
        "outputId": "4d197239-89e1-4740-dd5e-e380e9fa94cf"
      },
      "execution_count": null,
      "outputs": [
        {
          "output_type": "stream",
          "name": "stdout",
          "text": [
            "Precision:  0.41901148749880585\n",
            "Recall:  0.426\n",
            "Accuracy:  0.426\n",
            "F1 Score:  0.4199356521186629\n"
          ]
        }
      ]
    },
    {
      "cell_type": "markdown",
      "source": [
        "# **Adagrad optimizer**"
      ],
      "metadata": {
        "id": "b9aESqsgFtxk"
      }
    },
    {
      "cell_type": "code",
      "source": [
        "model = Sequential([\n",
        "    Flatten(input_shape=(32, 32, 3)),  # Adjust input shape for CIFAR-10 images\n",
        "    Dense(256, activation='relu'),\n",
        "    Dense(10, activation='softmax')\n",
        "])\n",
        "model.summary()"
      ],
      "metadata": {
        "id": "Lx6yF9W3O5ol"
      },
      "execution_count": null,
      "outputs": []
    },
    {
      "cell_type": "code",
      "source": [
        "# Compiling the model with Adagrad optimizer\n",
        "import tensorflow as tf\n",
        "\n",
        "Adagrad = tf.keras.optimizers.Adagrad(learning_rate=0.001)\n",
        "model.compile(optimizer=Adagrad, loss='categorical_crossentropy', metrics=['accuracy'])"
      ],
      "metadata": {
        "id": "9Bzpk_pl4Wc8"
      },
      "execution_count": null,
      "outputs": []
    },
    {
      "cell_type": "code",
      "source": [
        "model.fit(x_train, y_train, epochs=10, batch_size=64, validation_data=(x_val, y_val))"
      ],
      "metadata": {
        "colab": {
          "base_uri": "https://localhost:8080/"
        },
        "id": "MKZYaE3kCc-t",
        "outputId": "1d2572c8-783b-4d3f-d7b2-a74163365176"
      },
      "execution_count": null,
      "outputs": [
        {
          "metadata": {
            "tags": null
          },
          "name": "stdout",
          "output_type": "stream",
          "text": [
            "Epoch 1/50\n",
            "134/134 [==============================] - 6s 39ms/step - loss: 1.0936 - accuracy: 0.6158 - val_loss: 1.4917 - val_accuracy: 0.4931\n",
            "Epoch 2/50\n",
            "134/134 [==============================] - 4s 28ms/step - loss: 1.0928 - accuracy: 0.6157 - val_loss: 1.4909 - val_accuracy: 0.4940\n",
            "Epoch 3/50\n",
            "134/134 [==============================] - 4s 28ms/step - loss: 1.0926 - accuracy: 0.6159 - val_loss: 1.4911 - val_accuracy: 0.4926\n",
            "Epoch 4/50\n",
            "134/134 [==============================] - 5s 36ms/step - loss: 1.0922 - accuracy: 0.6158 - val_loss: 1.4919 - val_accuracy: 0.4927\n",
            "Epoch 5/50\n",
            "134/134 [==============================] - 4s 28ms/step - loss: 1.0919 - accuracy: 0.6163 - val_loss: 1.4919 - val_accuracy: 0.4924\n",
            "Epoch 6/50\n",
            "134/134 [==============================] - 4s 28ms/step - loss: 1.0918 - accuracy: 0.6165 - val_loss: 1.4926 - val_accuracy: 0.4925\n",
            "Epoch 7/50\n",
            "134/134 [==============================] - 5s 38ms/step - loss: 1.0915 - accuracy: 0.6160 - val_loss: 1.4925 - val_accuracy: 0.4951\n",
            "Epoch 8/50\n",
            "134/134 [==============================] - 4s 28ms/step - loss: 1.0914 - accuracy: 0.6167 - val_loss: 1.4924 - val_accuracy: 0.4926\n",
            "Epoch 9/50\n",
            "134/134 [==============================] - 4s 28ms/step - loss: 1.0913 - accuracy: 0.6160 - val_loss: 1.4934 - val_accuracy: 0.4929\n",
            "Epoch 10/50\n",
            "134/134 [==============================] - 5s 36ms/step - loss: 1.0910 - accuracy: 0.6163 - val_loss: 1.4933 - val_accuracy: 0.4919\n",
            "Epoch 11/50\n",
            "134/134 [==============================] - 4s 28ms/step - loss: 1.0910 - accuracy: 0.6164 - val_loss: 1.4936 - val_accuracy: 0.4917\n",
            "Epoch 12/50\n",
            "134/134 [==============================] - 4s 28ms/step - loss: 1.0909 - accuracy: 0.6172 - val_loss: 1.4929 - val_accuracy: 0.4931\n",
            "Epoch 13/50\n",
            "134/134 [==============================] - 5s 34ms/step - loss: 1.0906 - accuracy: 0.6161 - val_loss: 1.4931 - val_accuracy: 0.4936\n",
            "Epoch 14/50\n",
            "134/134 [==============================] - 4s 32ms/step - loss: 1.0906 - accuracy: 0.6165 - val_loss: 1.4929 - val_accuracy: 0.4923\n",
            "Epoch 15/50\n",
            "134/134 [==============================] - 4s 30ms/step - loss: 1.0904 - accuracy: 0.6159 - val_loss: 1.4931 - val_accuracy: 0.4922\n",
            "Epoch 16/50\n",
            "134/134 [==============================] - 5s 35ms/step - loss: 1.0903 - accuracy: 0.6176 - val_loss: 1.4932 - val_accuracy: 0.4926\n",
            "Epoch 17/50\n",
            "134/134 [==============================] - 4s 29ms/step - loss: 1.0902 - accuracy: 0.6163 - val_loss: 1.4936 - val_accuracy: 0.4936\n",
            "Epoch 18/50\n",
            "134/134 [==============================] - 4s 28ms/step - loss: 1.0902 - accuracy: 0.6163 - val_loss: 1.4937 - val_accuracy: 0.4927\n",
            "Epoch 19/50\n",
            "134/134 [==============================] - 4s 32ms/step - loss: 1.0899 - accuracy: 0.6168 - val_loss: 1.4935 - val_accuracy: 0.4931\n",
            "Epoch 20/50\n",
            "134/134 [==============================] - 4s 32ms/step - loss: 1.0898 - accuracy: 0.6179 - val_loss: 1.4938 - val_accuracy: 0.4933\n",
            "Epoch 21/50\n",
            "134/134 [==============================] - 4s 28ms/step - loss: 1.0899 - accuracy: 0.6177 - val_loss: 1.4941 - val_accuracy: 0.4932\n",
            "Epoch 22/50\n",
            "134/134 [==============================] - 4s 30ms/step - loss: 1.0896 - accuracy: 0.6167 - val_loss: 1.4936 - val_accuracy: 0.4918\n",
            "Epoch 23/50\n",
            "134/134 [==============================] - 4s 33ms/step - loss: 1.0895 - accuracy: 0.6172 - val_loss: 1.4945 - val_accuracy: 0.4922\n",
            "Epoch 24/50\n",
            "134/134 [==============================] - 4s 27ms/step - loss: 1.0895 - accuracy: 0.6174 - val_loss: 1.4940 - val_accuracy: 0.4937\n",
            "Epoch 25/50\n",
            "134/134 [==============================] - 4s 28ms/step - loss: 1.0893 - accuracy: 0.6180 - val_loss: 1.4937 - val_accuracy: 0.4930\n",
            "Epoch 26/50\n",
            "134/134 [==============================] - 5s 36ms/step - loss: 1.0893 - accuracy: 0.6169 - val_loss: 1.4948 - val_accuracy: 0.4916\n",
            "Epoch 27/50\n",
            "134/134 [==============================] - 4s 28ms/step - loss: 1.0891 - accuracy: 0.6177 - val_loss: 1.4952 - val_accuracy: 0.4925\n",
            "Epoch 28/50\n",
            "134/134 [==============================] - 4s 30ms/step - loss: 1.0891 - accuracy: 0.6172 - val_loss: 1.4950 - val_accuracy: 0.4933\n",
            "Epoch 29/50\n",
            "134/134 [==============================] - 5s 36ms/step - loss: 1.0890 - accuracy: 0.6178 - val_loss: 1.4946 - val_accuracy: 0.4917\n",
            "Epoch 30/50\n",
            "134/134 [==============================] - 4s 28ms/step - loss: 1.0890 - accuracy: 0.6166 - val_loss: 1.4946 - val_accuracy: 0.4912\n",
            "Epoch 31/50\n",
            "134/134 [==============================] - 4s 28ms/step - loss: 1.0888 - accuracy: 0.6174 - val_loss: 1.4947 - val_accuracy: 0.4918\n",
            "Epoch 32/50\n",
            "134/134 [==============================] - 5s 36ms/step - loss: 1.0886 - accuracy: 0.6169 - val_loss: 1.4955 - val_accuracy: 0.4930\n",
            "Epoch 33/50\n",
            "134/134 [==============================] - 4s 28ms/step - loss: 1.0888 - accuracy: 0.6173 - val_loss: 1.4944 - val_accuracy: 0.4937\n",
            "Epoch 34/50\n",
            "134/134 [==============================] - 4s 28ms/step - loss: 1.0886 - accuracy: 0.6170 - val_loss: 1.4948 - val_accuracy: 0.4915\n",
            "Epoch 35/50\n",
            "134/134 [==============================] - 5s 36ms/step - loss: 1.0886 - accuracy: 0.6179 - val_loss: 1.4950 - val_accuracy: 0.4928\n",
            "Epoch 36/50\n",
            "134/134 [==============================] - 4s 28ms/step - loss: 1.0884 - accuracy: 0.6167 - val_loss: 1.4954 - val_accuracy: 0.4929\n",
            "Epoch 37/50\n",
            "134/134 [==============================] - 4s 27ms/step - loss: 1.0882 - accuracy: 0.6179 - val_loss: 1.4949 - val_accuracy: 0.4923\n",
            "Epoch 38/50\n",
            "134/134 [==============================] - 4s 32ms/step - loss: 1.0883 - accuracy: 0.6182 - val_loss: 1.4950 - val_accuracy: 0.4940\n",
            "Epoch 39/50\n",
            "134/134 [==============================] - 4s 30ms/step - loss: 1.0882 - accuracy: 0.6182 - val_loss: 1.4950 - val_accuracy: 0.4932\n",
            "Epoch 40/50\n",
            "134/134 [==============================] - 4s 27ms/step - loss: 1.0882 - accuracy: 0.6180 - val_loss: 1.4955 - val_accuracy: 0.4897\n",
            "Epoch 41/50\n",
            "134/134 [==============================] - 4s 29ms/step - loss: 1.0881 - accuracy: 0.6180 - val_loss: 1.4956 - val_accuracy: 0.4933\n",
            "Epoch 42/50\n",
            "134/134 [==============================] - 4s 33ms/step - loss: 1.0878 - accuracy: 0.6177 - val_loss: 1.4957 - val_accuracy: 0.4917\n",
            "Epoch 43/50\n",
            "134/134 [==============================] - 4s 27ms/step - loss: 1.0879 - accuracy: 0.6185 - val_loss: 1.4958 - val_accuracy: 0.4926\n",
            "Epoch 44/50\n",
            "134/134 [==============================] - 4s 28ms/step - loss: 1.0879 - accuracy: 0.6190 - val_loss: 1.4959 - val_accuracy: 0.4922\n",
            "Epoch 45/50\n",
            "134/134 [==============================] - 5s 37ms/step - loss: 1.0878 - accuracy: 0.6180 - val_loss: 1.4957 - val_accuracy: 0.4921\n",
            "Epoch 46/50\n",
            "134/134 [==============================] - 4s 27ms/step - loss: 1.0877 - accuracy: 0.6186 - val_loss: 1.4956 - val_accuracy: 0.4928\n",
            "Epoch 47/50\n",
            "134/134 [==============================] - 4s 27ms/step - loss: 1.0876 - accuracy: 0.6178 - val_loss: 1.4961 - val_accuracy: 0.4925\n",
            "Epoch 48/50\n",
            "134/134 [==============================] - 5s 35ms/step - loss: 1.0877 - accuracy: 0.6178 - val_loss: 1.4958 - val_accuracy: 0.4932\n",
            "Epoch 49/50\n",
            "134/134 [==============================] - 4s 27ms/step - loss: 1.0875 - accuracy: 0.6180 - val_loss: 1.4961 - val_accuracy: 0.4938\n",
            "Epoch 50/50\n",
            "134/134 [==============================] - 4s 29ms/step - loss: 1.0875 - accuracy: 0.6181 - val_loss: 1.4965 - val_accuracy: 0.4939\n"
          ]
        },
        {
          "data": {
            "text/plain": [
              "<keras.src.callbacks.History at 0x7de892c4b0d0>"
            ]
          },
          "execution_count": 59,
          "metadata": {},
          "output_type": "execute_result"
        }
      ]
    },
    {
      "cell_type": "code",
      "source": [
        "# Evaluate model on test set\n",
        "loss, accuracy = model.evaluate(x_test, y_test)\n",
        "print(\"Test Loss (Adagrad):\", loss)\n",
        "print(\"Test Accuracy (Adagrad):\", accuracy)"
      ],
      "metadata": {
        "colab": {
          "base_uri": "https://localhost:8080/"
        },
        "id": "cytYg0kACfI9",
        "outputId": "3606a220-342a-4725-b396-164f7eec8781"
      },
      "execution_count": null,
      "outputs": [
        {
          "metadata": {
            "tags": null
          },
          "name": "stdout",
          "output_type": "stream",
          "text": [
            "313/313 [==============================] - 1s 3ms/step - loss: 1.4916 - accuracy: 0.4895\n",
            "Test Loss (Adagrad): 1.4915522336959839\n",
            "Test Accuracy (Adagrad): 0.4894999861717224\n"
          ]
        }
      ]
    },
    {
      "cell_type": "code",
      "source": [
        "y_predicted = model.predict(x_test)"
      ],
      "metadata": {
        "colab": {
          "base_uri": "https://localhost:8080/"
        },
        "id": "Ltb8LUZYChEr",
        "outputId": "b7cbcab8-4ba8-4063-8b4e-0c592ea01b4f"
      },
      "execution_count": null,
      "outputs": [
        {
          "metadata": {
            "tags": null
          },
          "name": "stdout",
          "output_type": "stream",
          "text": [
            "313/313 [==============================] - 1s 4ms/step\n"
          ]
        }
      ]
    },
    {
      "cell_type": "code",
      "source": [
        "print(y_test[1])\n",
        "print(y_predicted[1])"
      ],
      "metadata": {
        "colab": {
          "base_uri": "https://localhost:8080/"
        },
        "id": "y04VobGsCjbi",
        "outputId": "023b5a18-fcf8-4e80-c702-51f1cff92102"
      },
      "execution_count": null,
      "outputs": [
        {
          "metadata": {
            "tags": null
          },
          "name": "stdout",
          "output_type": "stream",
          "text": [
            "[0. 0. 0. 0. 0. 0. 0. 0. 1. 0.]\n",
            "[3.5079997e-02 9.4102480e-02 3.8013281e-04 9.3918201e-04 8.2017988e-04\n",
            " 5.7832227e-04 3.9300826e-04 4.9847888e-05 5.7319003e-01 2.9446676e-01]\n"
          ]
        }
      ]
    },
    {
      "cell_type": "code",
      "source": [
        "# Generate confusion matrix\n",
        "import numpy as np\n",
        "from sklearn.metrics import confusion_matrix\n",
        "y_pred = np.argmax(model.predict(x_test), axis=1)\n",
        "cm = confusion_matrix(np.argmax(y_test, axis=1), y_pred)\n",
        "print(\"Confusion Matrix (Adagrad):\\n\", cm);"
      ],
      "metadata": {
        "colab": {
          "base_uri": "https://localhost:8080/"
        },
        "id": "jAVO5322Cl5h",
        "outputId": "16b4d1b1-44d0-4cf6-fd9d-8d7d7487a25d"
      },
      "execution_count": null,
      "outputs": [
        {
          "metadata": {
            "tags": null
          },
          "name": "stdout",
          "output_type": "stream",
          "text": [
            "313/313 [==============================] - 1s 3ms/step\n",
            "Confusion Matrix (Adagrad):\n",
            " [[571  38  55  26  41  17  28  28 156  40]\n",
            " [ 65 602  17  17  12  18  20  26  79 144]\n",
            " [ 83  26 339  70 169  81 111  67  24  30]\n",
            " [ 33  32  85 295  69 192 143  69  31  51]\n",
            " [ 59  18 117  50 424  51 140  98  29  14]\n",
            " [ 22  17  93 188  88 371  89  78  25  29]\n",
            " [ 14  23  47  85 108  64 602  27  13  17]\n",
            " [ 47  20  57  56  99  82  34 544  18  43]\n",
            " [114  75  23  24  23  21   9  16 645  50]\n",
            " [ 47 190  14  33  24  19  25  59  87 502]]\n"
          ]
        }
      ]
    },
    {
      "cell_type": "code",
      "source": [
        "#Classification Report\n",
        "from sklearn.metrics import classification_report\n",
        "label_names = ['Class 0', 'Class 1', 'Class 2', 'Class 3', 'Class 4', 'Class 5', 'Class 6', 'Class 7', 'Class 8', 'Class 9']\n",
        "print(\"Classification Report (Adagrad):\\n\", classification_report(np.argmax(y_test, axis=1), y_pred.round(), target_names=label_names))"
      ],
      "metadata": {
        "colab": {
          "base_uri": "https://localhost:8080/"
        },
        "id": "HGUQsTq2CnQV",
        "outputId": "a6fda07a-5ab6-439f-b7f6-b4b7321a83b5"
      },
      "execution_count": null,
      "outputs": [
        {
          "metadata": {
            "tags": null
          },
          "name": "stdout",
          "output_type": "stream",
          "text": [
            "Classification Report (Adagrad):\n",
            "               precision    recall  f1-score   support\n",
            "\n",
            "     Class 0       0.54      0.57      0.56      1000\n",
            "     Class 1       0.58      0.60      0.59      1000\n",
            "     Class 2       0.40      0.34      0.37      1000\n",
            "     Class 3       0.35      0.29      0.32      1000\n",
            "     Class 4       0.40      0.42      0.41      1000\n",
            "     Class 5       0.41      0.37      0.39      1000\n",
            "     Class 6       0.50      0.60      0.55      1000\n",
            "     Class 7       0.54      0.54      0.54      1000\n",
            "     Class 8       0.58      0.65      0.61      1000\n",
            "     Class 9       0.55      0.50      0.52      1000\n",
            "\n",
            "    accuracy                           0.49     10000\n",
            "   macro avg       0.48      0.49      0.49     10000\n",
            "weighted avg       0.48      0.49      0.49     10000\n",
            "\n"
          ]
        }
      ]
    },
    {
      "cell_type": "code",
      "source": [
        "from sklearn.metrics import precision_score, recall_score, accuracy_score, f1_score\n",
        "print('Precision: ', precision_score(np.argmax(y_test, axis=1), y_pred, average='macro'))\n",
        "print('Recall: ', recall_score(np.argmax(y_test, axis=1), y_pred, average='macro'))\n",
        "print('Accuracy: ', accuracy_score(np.argmax(y_test, axis=1), y_pred))\n",
        "print('F1 Score: ', f1_score(np.argmax(y_test, axis=1), y_pred, average='macro'))"
      ],
      "metadata": {
        "colab": {
          "base_uri": "https://localhost:8080/"
        },
        "id": "YQ_F5iryConG",
        "outputId": "645f28c2-78b2-42d0-9d49-0035d87d7227"
      },
      "execution_count": null,
      "outputs": [
        {
          "metadata": {
            "tags": null
          },
          "name": "stdout",
          "output_type": "stream",
          "text": [
            "Precision:  0.4842548016415587\n",
            "Recall:  0.48949999999999994\n",
            "Accuracy:  0.4895\n",
            "F1 Score:  0.48551201384226983\n"
          ]
        }
      ]
    },
    {
      "cell_type": "markdown",
      "source": [
        "# **RMSprop optimizer**"
      ],
      "metadata": {
        "id": "MAPCvhQGFzJl"
      }
    },
    {
      "cell_type": "code",
      "source": [
        "model = Sequential([\n",
        "    Flatten(input_shape=(32, 32, 3)),  # Adjust input shape for CIFAR-10 images\n",
        "    Dense(256, activation='relu'),\n",
        "    Dense(10, activation='softmax')\n",
        "])\n",
        "model.summary()"
      ],
      "metadata": {
        "id": "PmzsT20MO8Ge"
      },
      "execution_count": null,
      "outputs": []
    },
    {
      "cell_type": "code",
      "source": [
        "# Compiling the model with RMSprop optimizer\n",
        "import tensorflow as tf\n",
        "\n",
        "RMSprop = tf.keras.optimizers.RMSprop(learning_rate=0.001)\n",
        "model.compile(optimizer=RMSprop, loss='categorical_crossentropy', metrics=['accuracy'])"
      ],
      "metadata": {
        "id": "clZFgWEaCpJw"
      },
      "execution_count": null,
      "outputs": []
    },
    {
      "cell_type": "code",
      "source": [
        "model.fit(x_train, y_train, epochs=10, batch_size=64, validation_data=(x_val, y_val))"
      ],
      "metadata": {
        "colab": {
          "base_uri": "https://localhost:8080/"
        },
        "id": "RzkOg7zYC5wX",
        "outputId": "b5ebe626-b658-4b4d-e660-6d8c2d6934a3"
      },
      "execution_count": null,
      "outputs": [
        {
          "metadata": {
            "tags": null
          },
          "name": "stdout",
          "output_type": "stream",
          "text": [
            "Epoch 1/50\n",
            "134/134 [==============================] - 5s 33ms/step - loss: 1.5347 - accuracy: 0.5129 - val_loss: 1.9447 - val_accuracy: 0.3916\n",
            "Epoch 2/50\n",
            "134/134 [==============================] - 4s 32ms/step - loss: 1.4002 - accuracy: 0.5177 - val_loss: 1.6090 - val_accuracy: 0.4554\n",
            "Epoch 3/50\n",
            "134/134 [==============================] - 7s 55ms/step - loss: 1.3896 - accuracy: 0.5192 - val_loss: 1.6731 - val_accuracy: 0.4471\n",
            "Epoch 4/50\n",
            "134/134 [==============================] - 4s 28ms/step - loss: 1.3715 - accuracy: 0.5224 - val_loss: 1.6382 - val_accuracy: 0.4435\n",
            "Epoch 5/50\n",
            "134/134 [==============================] - 4s 30ms/step - loss: 1.3536 - accuracy: 0.5273 - val_loss: 1.7805 - val_accuracy: 0.4103\n",
            "Epoch 6/50\n",
            "134/134 [==============================] - 5s 33ms/step - loss: 1.3728 - accuracy: 0.5221 - val_loss: 1.7440 - val_accuracy: 0.4192\n",
            "Epoch 7/50\n",
            "134/134 [==============================] - 4s 27ms/step - loss: 1.3555 - accuracy: 0.5282 - val_loss: 1.6524 - val_accuracy: 0.4395\n",
            "Epoch 8/50\n",
            "134/134 [==============================] - 4s 27ms/step - loss: 1.3506 - accuracy: 0.5298 - val_loss: 1.7018 - val_accuracy: 0.4409\n",
            "Epoch 9/50\n",
            "134/134 [==============================] - 5s 34ms/step - loss: 1.3409 - accuracy: 0.5317 - val_loss: 1.6533 - val_accuracy: 0.4434\n",
            "Epoch 10/50\n",
            "134/134 [==============================] - 4s 27ms/step - loss: 1.3465 - accuracy: 0.5290 - val_loss: 1.6426 - val_accuracy: 0.4461\n",
            "Epoch 11/50\n",
            "134/134 [==============================] - 4s 29ms/step - loss: 1.3356 - accuracy: 0.5330 - val_loss: 1.7807 - val_accuracy: 0.4229\n",
            "Epoch 12/50\n",
            "134/134 [==============================] - 5s 34ms/step - loss: 1.3369 - accuracy: 0.5331 - val_loss: 1.6037 - val_accuracy: 0.4634\n",
            "Epoch 13/50\n",
            "134/134 [==============================] - 4s 27ms/step - loss: 1.3325 - accuracy: 0.5362 - val_loss: 1.7342 - val_accuracy: 0.4362\n",
            "Epoch 14/50\n",
            "134/134 [==============================] - 4s 27ms/step - loss: 1.3321 - accuracy: 0.5324 - val_loss: 1.9664 - val_accuracy: 0.3675\n",
            "Epoch 15/50\n",
            "134/134 [==============================] - 4s 34ms/step - loss: 1.3289 - accuracy: 0.5330 - val_loss: 1.7823 - val_accuracy: 0.4147\n",
            "Epoch 16/50\n",
            "134/134 [==============================] - 4s 27ms/step - loss: 1.3266 - accuracy: 0.5369 - val_loss: 1.5321 - val_accuracy: 0.4831\n",
            "Epoch 17/50\n",
            "134/134 [==============================] - 4s 27ms/step - loss: 1.3199 - accuracy: 0.5378 - val_loss: 1.7349 - val_accuracy: 0.4355\n",
            "Epoch 18/50\n",
            "134/134 [==============================] - 5s 34ms/step - loss: 1.3169 - accuracy: 0.5385 - val_loss: 1.6326 - val_accuracy: 0.4536\n",
            "Epoch 19/50\n",
            "134/134 [==============================] - 4s 27ms/step - loss: 1.3144 - accuracy: 0.5350 - val_loss: 1.9286 - val_accuracy: 0.3766\n",
            "Epoch 20/50\n",
            "134/134 [==============================] - 4s 29ms/step - loss: 1.3174 - accuracy: 0.5378 - val_loss: 1.6045 - val_accuracy: 0.4505\n",
            "Epoch 21/50\n",
            "134/134 [==============================] - 5s 34ms/step - loss: 1.3099 - accuracy: 0.5394 - val_loss: 1.8097 - val_accuracy: 0.4125\n",
            "Epoch 22/50\n",
            "134/134 [==============================] - 4s 29ms/step - loss: 1.3084 - accuracy: 0.5408 - val_loss: 1.7611 - val_accuracy: 0.4258\n",
            "Epoch 23/50\n",
            "134/134 [==============================] - 4s 30ms/step - loss: 1.3058 - accuracy: 0.5419 - val_loss: 1.9209 - val_accuracy: 0.3774\n",
            "Epoch 24/50\n",
            "134/134 [==============================] - 5s 37ms/step - loss: 1.3086 - accuracy: 0.5397 - val_loss: 1.7880 - val_accuracy: 0.4128\n",
            "Epoch 25/50\n",
            "134/134 [==============================] - 4s 30ms/step - loss: 1.2986 - accuracy: 0.5410 - val_loss: 1.8668 - val_accuracy: 0.4070\n",
            "Epoch 26/50\n",
            "134/134 [==============================] - 4s 27ms/step - loss: 1.3026 - accuracy: 0.5405 - val_loss: 1.6903 - val_accuracy: 0.4300\n",
            "Epoch 27/50\n",
            "134/134 [==============================] - 5s 36ms/step - loss: 1.3006 - accuracy: 0.5433 - val_loss: 1.9058 - val_accuracy: 0.3929\n",
            "Epoch 28/50\n",
            "134/134 [==============================] - 4s 30ms/step - loss: 1.2948 - accuracy: 0.5425 - val_loss: 1.5723 - val_accuracy: 0.4635\n",
            "Epoch 29/50\n",
            "134/134 [==============================] - 4s 30ms/step - loss: 1.2927 - accuracy: 0.5451 - val_loss: 1.6215 - val_accuracy: 0.4506\n",
            "Epoch 30/50\n",
            "134/134 [==============================] - 5s 34ms/step - loss: 1.2924 - accuracy: 0.5439 - val_loss: 1.6638 - val_accuracy: 0.4427\n",
            "Epoch 31/50\n",
            "134/134 [==============================] - 4s 27ms/step - loss: 1.2932 - accuracy: 0.5456 - val_loss: 1.6092 - val_accuracy: 0.4547\n",
            "Epoch 32/50\n",
            "134/134 [==============================] - 4s 30ms/step - loss: 1.2903 - accuracy: 0.5438 - val_loss: 1.6357 - val_accuracy: 0.4553\n",
            "Epoch 33/50\n",
            "134/134 [==============================] - 5s 36ms/step - loss: 1.2881 - accuracy: 0.5448 - val_loss: 1.7363 - val_accuracy: 0.4378\n",
            "Epoch 34/50\n",
            "134/134 [==============================] - 4s 27ms/step - loss: 1.2865 - accuracy: 0.5483 - val_loss: 1.9124 - val_accuracy: 0.4079\n",
            "Epoch 35/50\n",
            "134/134 [==============================] - 4s 27ms/step - loss: 1.2890 - accuracy: 0.5454 - val_loss: 1.7376 - val_accuracy: 0.4334\n",
            "Epoch 36/50\n",
            "134/134 [==============================] - 5s 34ms/step - loss: 1.2831 - accuracy: 0.5464 - val_loss: 1.7363 - val_accuracy: 0.4435\n",
            "Epoch 37/50\n",
            "134/134 [==============================] - 4s 27ms/step - loss: 1.2817 - accuracy: 0.5484 - val_loss: 1.6507 - val_accuracy: 0.4509\n",
            "Epoch 38/50\n",
            "134/134 [==============================] - 4s 27ms/step - loss: 1.2843 - accuracy: 0.5468 - val_loss: 1.5835 - val_accuracy: 0.4619\n",
            "Epoch 39/50\n",
            "134/134 [==============================] - 5s 34ms/step - loss: 1.2814 - accuracy: 0.5485 - val_loss: 1.5943 - val_accuracy: 0.4631\n",
            "Epoch 40/50\n",
            "134/134 [==============================] - 4s 28ms/step - loss: 1.2759 - accuracy: 0.5497 - val_loss: 1.5454 - val_accuracy: 0.4778\n",
            "Epoch 41/50\n",
            "134/134 [==============================] - 4s 27ms/step - loss: 1.2784 - accuracy: 0.5528 - val_loss: 1.6713 - val_accuracy: 0.4419\n",
            "Epoch 42/50\n",
            "134/134 [==============================] - 5s 34ms/step - loss: 1.2719 - accuracy: 0.5531 - val_loss: 1.6152 - val_accuracy: 0.4537\n",
            "Epoch 43/50\n",
            "134/134 [==============================] - 4s 27ms/step - loss: 1.2718 - accuracy: 0.5515 - val_loss: 1.9169 - val_accuracy: 0.3912\n",
            "Epoch 44/50\n",
            "134/134 [==============================] - 4s 27ms/step - loss: 1.2731 - accuracy: 0.5514 - val_loss: 1.6100 - val_accuracy: 0.4542\n",
            "Epoch 45/50\n",
            "134/134 [==============================] - 4s 32ms/step - loss: 1.2738 - accuracy: 0.5506 - val_loss: 1.7422 - val_accuracy: 0.4250\n",
            "Epoch 46/50\n",
            "134/134 [==============================] - 4s 28ms/step - loss: 1.2698 - accuracy: 0.5555 - val_loss: 1.6363 - val_accuracy: 0.4523\n",
            "Epoch 47/50\n",
            "134/134 [==============================] - 4s 27ms/step - loss: 1.2667 - accuracy: 0.5538 - val_loss: 1.9396 - val_accuracy: 0.4174\n",
            "Epoch 48/50\n",
            "134/134 [==============================] - 4s 30ms/step - loss: 1.2634 - accuracy: 0.5541 - val_loss: 1.6820 - val_accuracy: 0.4372\n",
            "Epoch 49/50\n",
            "134/134 [==============================] - 4s 31ms/step - loss: 1.2650 - accuracy: 0.5551 - val_loss: 1.6684 - val_accuracy: 0.4466\n",
            "Epoch 50/50\n",
            "134/134 [==============================] - 4s 27ms/step - loss: 1.2613 - accuracy: 0.5573 - val_loss: 1.6176 - val_accuracy: 0.4630\n"
          ]
        },
        {
          "data": {
            "text/plain": [
              "<keras.src.callbacks.History at 0x7de8919c36a0>"
            ]
          },
          "execution_count": 67,
          "metadata": {},
          "output_type": "execute_result"
        }
      ]
    },
    {
      "cell_type": "code",
      "source": [
        "# Evaluate model on test set\n",
        "loss, accuracy = model.evaluate(x_test, y_test)\n",
        "print(\"Test Loss (RMSprop):\", loss)\n",
        "print(\"Test Accuracy (RMSprop):\", accuracy)"
      ],
      "metadata": {
        "colab": {
          "base_uri": "https://localhost:8080/"
        },
        "id": "h5q1swB2C8oa",
        "outputId": "b14b3e4d-d66a-438d-c80b-63b8b05f3575"
      },
      "execution_count": null,
      "outputs": [
        {
          "metadata": {
            "tags": null
          },
          "name": "stdout",
          "output_type": "stream",
          "text": [
            "313/313 [==============================] - 1s 3ms/step - loss: 1.6101 - accuracy: 0.4611\n",
            "Test Loss (RMSprop): 1.610055923461914\n",
            "Test Accuracy (RMSprop): 0.4611000120639801\n"
          ]
        }
      ]
    },
    {
      "cell_type": "code",
      "source": [
        "y_predicted = model.predict(x_test)"
      ],
      "metadata": {
        "colab": {
          "base_uri": "https://localhost:8080/"
        },
        "id": "YbMWEIcJC-kr",
        "outputId": "eba5fa54-01f8-4d10-b647-97de22047bc0"
      },
      "execution_count": null,
      "outputs": [
        {
          "metadata": {
            "tags": null
          },
          "name": "stdout",
          "output_type": "stream",
          "text": [
            "313/313 [==============================] - 1s 3ms/step\n"
          ]
        }
      ]
    },
    {
      "cell_type": "code",
      "source": [
        "print(y_test[1])\n",
        "print(y_predicted[1])"
      ],
      "metadata": {
        "colab": {
          "base_uri": "https://localhost:8080/"
        },
        "id": "VjEbFsAvDADF",
        "outputId": "32db04b9-934e-42f2-cba9-1e54c252df31"
      },
      "execution_count": null,
      "outputs": [
        {
          "metadata": {
            "tags": null
          },
          "name": "stdout",
          "output_type": "stream",
          "text": [
            "[0. 0. 0. 0. 0. 0. 0. 0. 1. 0.]\n",
            "[9.9597741e-03 1.6253258e-01 2.8599607e-04 2.3370185e-04 2.4411423e-04\n",
            " 6.4204054e-05 3.0580351e-05 5.9153272e-06 3.3857599e-01 4.8806718e-01]\n"
          ]
        }
      ]
    },
    {
      "cell_type": "code",
      "source": [
        "# Generate confusion matrix\n",
        "import numpy as np\n",
        "from sklearn.metrics import confusion_matrix\n",
        "y_pred = np.argmax(model.predict(x_test), axis=1)\n",
        "cm = confusion_matrix(np.argmax(y_test, axis=1), y_pred)\n",
        "print(\"Confusion Matrix (RMSprop):\\n\", cm);"
      ],
      "metadata": {
        "colab": {
          "base_uri": "https://localhost:8080/"
        },
        "id": "gChUBZRwDBbf",
        "outputId": "ce669c01-8d3a-4c77-a247-e4bd439b43f2"
      },
      "execution_count": null,
      "outputs": [
        {
          "metadata": {
            "tags": null
          },
          "name": "stdout",
          "output_type": "stream",
          "text": [
            "313/313 [==============================] - 1s 3ms/step\n",
            "Confusion Matrix (RMSprop):\n",
            " [[446  75 133  13  31   1  17  10 207  67]\n",
            " [ 25 666  31   8  17   3  15  13  86 136]\n",
            " [ 67  33 493  57 141  18  86  30  37  38]\n",
            " [ 21  57 196 287 110  48 136  20  60  65]\n",
            " [ 39  14 239  47 462   6 106  30  33  24]\n",
            " [ 13  29 237 237 109 143  90  47  53  42]\n",
            " [ 11  37 142  62 163  13 523  11  19  19]\n",
            " [ 38  45 170  69 152  19  38 370  32  67]\n",
            " [ 65  87  37  17  19   4   9   7 681  74]\n",
            " [ 23 223  27  20  21   6  19  20 101 540]]\n"
          ]
        }
      ]
    },
    {
      "cell_type": "code",
      "source": [
        "#Classification Report\n",
        "from sklearn.metrics import classification_report\n",
        "label_names = ['Class 0', 'Class 1', 'Class 2', 'Class 3', 'Class 4', 'Class 5', 'Class 6', 'Class 7', 'Class 8', 'Class 9']\n",
        "print(\"Classification Report (RMSprop):\\n\", classification_report(np.argmax(y_test, axis=1), y_pred.round(), target_names=label_names))"
      ],
      "metadata": {
        "colab": {
          "base_uri": "https://localhost:8080/"
        },
        "id": "mBIV1E5UDC-y",
        "outputId": "0cfc41a7-c7a5-4c1b-aefd-08badf4a82b3"
      },
      "execution_count": null,
      "outputs": [
        {
          "metadata": {
            "tags": null
          },
          "name": "stdout",
          "output_type": "stream",
          "text": [
            "Classification Report (RMSprop):\n",
            "               precision    recall  f1-score   support\n",
            "\n",
            "     Class 0       0.60      0.45      0.51      1000\n",
            "     Class 1       0.53      0.67      0.59      1000\n",
            "     Class 2       0.29      0.49      0.36      1000\n",
            "     Class 3       0.35      0.29      0.32      1000\n",
            "     Class 4       0.38      0.46      0.42      1000\n",
            "     Class 5       0.55      0.14      0.23      1000\n",
            "     Class 6       0.50      0.52      0.51      1000\n",
            "     Class 7       0.66      0.37      0.47      1000\n",
            "     Class 8       0.52      0.68      0.59      1000\n",
            "     Class 9       0.50      0.54      0.52      1000\n",
            "\n",
            "    accuracy                           0.46     10000\n",
            "   macro avg       0.49      0.46      0.45     10000\n",
            "weighted avg       0.49      0.46      0.45     10000\n",
            "\n"
          ]
        }
      ]
    },
    {
      "cell_type": "code",
      "source": [
        "from sklearn.metrics import precision_score, recall_score, accuracy_score, f1_score\n",
        "print('Precision: ', precision_score(np.argmax(y_test, axis=1), y_pred, average='macro'))\n",
        "print('Recall: ', recall_score(np.argmax(y_test, axis=1), y_pred, average='macro'))\n",
        "print('Accuracy: ', accuracy_score(np.argmax(y_test, axis=1), y_pred))\n",
        "print('F1 Score: ', f1_score(np.argmax(y_test, axis=1), y_pred, average='macro'))"
      ],
      "metadata": {
        "colab": {
          "base_uri": "https://localhost:8080/"
        },
        "id": "qn3f0cUKDEUg",
        "outputId": "b3134eb7-c387-45fb-e373-048bcbdc9d01"
      },
      "execution_count": null,
      "outputs": [
        {
          "metadata": {
            "tags": null
          },
          "name": "stdout",
          "output_type": "stream",
          "text": [
            "Precision:  0.48782202281451453\n",
            "Recall:  0.46109999999999995\n",
            "Accuracy:  0.4611\n",
            "F1 Score:  0.45196836957968134\n"
          ]
        }
      ]
    }
  ]
}